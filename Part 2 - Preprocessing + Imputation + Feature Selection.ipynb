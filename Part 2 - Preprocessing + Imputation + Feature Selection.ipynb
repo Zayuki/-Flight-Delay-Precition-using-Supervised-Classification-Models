{
 "cells": [
  {
   "cell_type": "code",
   "execution_count": 48,
   "id": "e2da3f2e",
   "metadata": {},
   "outputs": [],
   "source": [
    "import unicodecsv\n",
    "import pandas as pd\n",
    "import numpy as np\n",
    "import matplotlib.pyplot as plt\n",
    "import seaborn as sns\n",
    "import datetime as dt\n",
    "from scipy import stats\n",
    "from scipy.stats import norm\n",
    "pd.options.display.float_format = '{:.0f}'.format"
   ]
  },
  {
   "cell_type": "code",
   "execution_count": 49,
   "id": "c50fbcd1-31d7-4efd-a755-975bd2d9c5df",
   "metadata": {},
   "outputs": [],
   "source": [
    "import time\n",
    "import matplotlib.pyplot as plt \n",
    "import os \n",
    "import seaborn as sns\n",
    "import pandas as pd"
   ]
  },
  {
   "cell_type": "code",
   "execution_count": 3,
   "id": "ca1e9fc9-0b14-4450-82fa-2d85e605b677",
   "metadata": {},
   "outputs": [],
   "source": [
    "df = pd.read_csv('merged.csv')"
   ]
  },
  {
   "cell_type": "code",
   "execution_count": 4,
   "id": "d8498ada",
   "metadata": {},
   "outputs": [
    {
     "name": "stdout",
     "output_type": "stream",
     "text": [
      "<class 'pandas.core.frame.DataFrame'>\n",
      "RangeIndex: 18505725 entries, 0 to 18505724\n",
      "Data columns (total 28 columns):\n",
      " #   Column               Dtype  \n",
      "---  ------               -----  \n",
      " 0   FL_DATE              object \n",
      " 1   OP_CARRIER           object \n",
      " 2   OP_CARRIER_FL_NUM    int64  \n",
      " 3   ORIGIN               object \n",
      " 4   DEST                 object \n",
      " 5   CRS_DEP_TIME         int64  \n",
      " 6   DEP_TIME             float64\n",
      " 7   DEP_DELAY            float64\n",
      " 8   TAXI_OUT             float64\n",
      " 9   WHEELS_OFF           float64\n",
      " 10  WHEELS_ON            float64\n",
      " 11  TAXI_IN              float64\n",
      " 12  CRS_ARR_TIME         int64  \n",
      " 13  ARR_TIME             float64\n",
      " 14  ARR_DELAY            float64\n",
      " 15  CANCELLED            float64\n",
      " 16  CANCELLATION_CODE    object \n",
      " 17  DIVERTED             float64\n",
      " 18  CRS_ELAPSED_TIME     float64\n",
      " 19  ACTUAL_ELAPSED_TIME  float64\n",
      " 20  AIR_TIME             float64\n",
      " 21  DISTANCE             float64\n",
      " 22  CARRIER_DELAY        float64\n",
      " 23  WEATHER_DELAY        float64\n",
      " 24  NAS_DELAY            float64\n",
      " 25  SECURITY_DELAY       float64\n",
      " 26  LATE_AIRCRAFT_DELAY  float64\n",
      " 27  Unnamed: 27          float64\n",
      "dtypes: float64(20), int64(3), object(5)\n",
      "memory usage: 3.9+ GB\n"
     ]
    }
   ],
   "source": [
    "df.info()"
   ]
  },
  {
   "cell_type": "markdown",
   "id": "0e3033a6-be2c-4aa3-af85-2d51ef05cb8d",
   "metadata": {
    "tags": []
   },
   "source": [
    "# Pre-processing"
   ]
  },
  {
   "cell_type": "markdown",
   "id": "a5f211f0-0b81-4b43-a0bd-ba417a65e009",
   "metadata": {},
   "source": [
    "1) Remove Flight Delay Reasons Columns, \"Unnamed: 27\", \"CANCELLED\" & \"CANCELLATION_CODE\" column. <br>\n",
    "2) Remove Cancelled Flight Rows <br>\n",
    "3) Create Flight Delay columns (0 = punctual, 1 = Delay) <br>\n",
    "4) Remove diverted flights. <br>\n",
    "5) Remove rows with \"NAN\" values in \"ACTUAL_ELAPSED_TIME\" and \"AIR_TIME\t\" <br>\n",
    "6) DateTime data manipulation. <br>\n",
    "7) Proper Data type casting <br>"
   ]
  },
  {
   "cell_type": "markdown",
   "id": "72ba8b23-56ae-4424-92d4-f887a305699d",
   "metadata": {},
   "source": [
    "### 1) Remove Flight Delay Reasons Columns, \"Unnamed: 27\", \"CANCELLED\" & \"CANCELLATION_CODE\" column."
   ]
  },
  {
   "cell_type": "code",
   "execution_count": 5,
   "id": "ad8d9c33",
   "metadata": {},
   "outputs": [],
   "source": [
    "df = df.drop(['Unnamed: 27','CANCELLATION_CODE'],axis=1)"
   ]
  },
  {
   "cell_type": "markdown",
   "id": "8ed38fde-e67a-477c-a664-38405b597e60",
   "metadata": {},
   "source": [
    "### 2) Remove Cancelled Flight Rows, then drop 'CANCELLED' column."
   ]
  },
  {
   "cell_type": "code",
   "execution_count": 6,
   "id": "00f6f764-780c-45b9-8b53-bb2cfbbce4ca",
   "metadata": {},
   "outputs": [],
   "source": [
    "df = df[df.CANCELLED != 1]\n",
    "df = df.drop(['CANCELLED'],axis=1)"
   ]
  },
  {
   "cell_type": "markdown",
   "id": "c10bac7e-d665-49a5-8e8a-f1d2cac9449d",
   "metadata": {},
   "source": [
    "### 4) Remove diverted flights."
   ]
  },
  {
   "cell_type": "code",
   "execution_count": 7,
   "id": "66f72de5-cf0d-4176-9ea5-72bf27326e2c",
   "metadata": {},
   "outputs": [],
   "source": [
    "df = df[df.DIVERTED != 1]\n",
    "df = df.drop(['DIVERTED'],axis=1)"
   ]
  },
  {
   "cell_type": "markdown",
   "id": "2ad4feed-b7b3-49b9-89d2-e587125b4408",
   "metadata": {},
   "source": [
    "### 5) Remove rows with \"NAN\" values in \"ACTUAL_ELAPSED_TIME\" and \"AIR_TIME\t\""
   ]
  },
  {
   "cell_type": "code",
   "execution_count": 8,
   "id": "cba2ea21-c1c1-4c87-b2aa-4ed8d36c971e",
   "metadata": {},
   "outputs": [],
   "source": [
    "df = df.dropna(subset = ['ACTUAL_ELAPSED_TIME', 'AIR_TIME'])"
   ]
  },
  {
   "cell_type": "code",
   "execution_count": 9,
   "id": "f0ad6a51-4a5b-4894-b730-09fbe0787965",
   "metadata": {},
   "outputs": [
    {
     "data": {
      "text/plain": [
       "74258009"
      ]
     },
     "execution_count": 9,
     "metadata": {},
     "output_type": "execute_result"
    }
   ],
   "source": [
    "df.isna().sum().sum()"
   ]
  },
  {
   "cell_type": "markdown",
   "id": "454f317e-7255-4d2d-a9ff-9da9f80a2c98",
   "metadata": {},
   "source": [
    "### 6) DateTime data manipulation."
   ]
  },
  {
   "cell_type": "code",
   "execution_count": 10,
   "id": "759e75ed-3182-4972-9adf-6711017a78cd",
   "metadata": {},
   "outputs": [],
   "source": [
    "df['FL_DATE'] = pd.to_datetime(df['FL_DATE'])\n",
    "# create a new column - Month variable\n",
    "df['FL_DATE_month'] = pd.to_datetime(df['FL_DATE']).dt.month\n",
    "df['FL_DATE_year'] = pd.to_datetime(df['FL_DATE']).dt.year\n",
    "df['FL_DATE_DAY'] = pd.to_datetime(df['FL_DATE']).dt.dayofweek\n",
    "df = df.drop(['FL_DATE'],axis=1)"
   ]
  },
  {
   "cell_type": "code",
   "execution_count": 11,
   "id": "c0ebb177-83a3-44b5-adbc-b2a284087fea",
   "metadata": {},
   "outputs": [
    {
     "data": {
      "text/plain": [
       "OP_CARRIER              object\n",
       "OP_CARRIER_FL_NUM        int64\n",
       "ORIGIN                  object\n",
       "DEST                    object\n",
       "CRS_DEP_TIME             int64\n",
       "DEP_TIME               float64\n",
       "DEP_DELAY              float64\n",
       "TAXI_OUT               float64\n",
       "WHEELS_OFF             float64\n",
       "WHEELS_ON              float64\n",
       "TAXI_IN                float64\n",
       "CRS_ARR_TIME             int64\n",
       "ARR_TIME               float64\n",
       "ARR_DELAY              float64\n",
       "CRS_ELAPSED_TIME       float64\n",
       "ACTUAL_ELAPSED_TIME    float64\n",
       "AIR_TIME               float64\n",
       "DISTANCE               float64\n",
       "CARRIER_DELAY          float64\n",
       "WEATHER_DELAY          float64\n",
       "NAS_DELAY              float64\n",
       "SECURITY_DELAY         float64\n",
       "LATE_AIRCRAFT_DELAY    float64\n",
       "FL_DATE_month            int64\n",
       "FL_DATE_year             int64\n",
       "FL_DATE_DAY              int64\n",
       "dtype: object"
      ]
     },
     "execution_count": 11,
     "metadata": {},
     "output_type": "execute_result"
    }
   ],
   "source": [
    "df.dtypes"
   ]
  },
  {
   "cell_type": "markdown",
   "id": "cbf10a54",
   "metadata": {},
   "source": [
    "# 7) Cast As categorical"
   ]
  },
  {
   "cell_type": "code",
   "execution_count": 12,
   "id": "f72e6760",
   "metadata": {},
   "outputs": [],
   "source": [
    "df['OP_CARRIER'] = df['OP_CARRIER'].astype('category')\n",
    "df['ORIGIN'] = df['ORIGIN'].astype('category')\n",
    "df['DEST'] = df['DEST'].astype('category')"
   ]
  },
  {
   "cell_type": "code",
   "execution_count": 13,
   "id": "b8f86b28-6668-4a11-b4f3-7f426684d790",
   "metadata": {},
   "outputs": [
    {
     "data": {
      "text/plain": [
       "74258009"
      ]
     },
     "execution_count": 13,
     "metadata": {},
     "output_type": "execute_result"
    }
   ],
   "source": [
    "df.isna().sum().sum()"
   ]
  },
  {
   "cell_type": "markdown",
   "id": "27df43a7-6a33-48af-8095-a48a79d7beeb",
   "metadata": {},
   "source": [
    "# Imputation"
   ]
  },
  {
   "cell_type": "markdown",
   "id": "fba32d86-1dac-410b-bae3-a6e8435acc47",
   "metadata": {},
   "source": [
    "There are NAN values in \"DEP_DELAY\" and \"ARR_DELAY\" columns. We can imputate the data by calculating \"DEP_DELAY\" and \"ARR_DELAY\" by :\n",
    "   * DEP_DELAY = CRS_DEP_TIME - DEP_TIME\n",
    "   * ARR_DELAY = CRS_ARR_TIME - ARR_TIME"
   ]
  },
  {
   "cell_type": "code",
   "execution_count": 14,
   "id": "6235f8a6-9896-48a2-908e-0e5d18ef2c62",
   "metadata": {},
   "outputs": [],
   "source": [
    "df['DEP_DELAY'] = df.DEP_DELAY.fillna(df.CRS_DEP_TIME - df.DEP_TIME)\n",
    "df['ARR_DELAY'] = df.ARR_DELAY.fillna(df.CRS_ARR_TIME - df.ARR_TIME)"
   ]
  },
  {
   "cell_type": "code",
   "execution_count": 15,
   "id": "5630f892",
   "metadata": {},
   "outputs": [],
   "source": [
    "df['CARRIER_DELAY'] =df['CARRIER_DELAY'].fillna(0)\n",
    "df['WEATHER_DELAY'] =df['WEATHER_DELAY'].fillna(0)\n",
    "df['NAS_DELAY'] = df['NAS_DELAY'].fillna(0)\n",
    "df['SECURITY_DELAY'] = df['SECURITY_DELAY'].fillna(0)\n",
    "df['LATE_AIRCRAFT_DELAY'] = df['LATE_AIRCRAFT_DELAY'].fillna(0)"
   ]
  },
  {
   "cell_type": "code",
   "execution_count": 16,
   "id": "566c9667-8fc4-4d18-b0b8-7b42f2f5a225",
   "metadata": {},
   "outputs": [
    {
     "name": "stdout",
     "output_type": "stream",
     "text": [
      "After imputating the columns, null values in the dataset now is 0\n"
     ]
    }
   ],
   "source": [
    "print('After imputating the columns, null values in the dataset now is', df.isna().sum().sum())"
   ]
  },
  {
   "cell_type": "markdown",
   "id": "0305201f",
   "metadata": {},
   "source": [
    "# Feature Selection <br>\n",
    "1) Drop non-meaningful Columns <br>\n",
    "2) Remove non-correlated/ highly correlated columns <br>"
   ]
  },
  {
   "cell_type": "markdown",
   "id": "2d7ffe13",
   "metadata": {},
   "source": [
    "### DROP Non-Meaningful Columns"
   ]
  },
  {
   "cell_type": "markdown",
   "id": "b2b99d1d",
   "metadata": {},
   "source": [
    "Dropping Unwanted data </n>\n",
    "OP_CARRIER_FL_NUM: Flight number is not useful\n",
    "FL_DATE: we already have data of month and day column\n",
    "ARR_TIME & DEPTIME: DEPARTURE_DELAY AND ARRIVAL_DELAY is more useful as they directly provide the delays in minutes."
   ]
  },
  {
   "cell_type": "code",
   "execution_count": 17,
   "id": "676082ae",
   "metadata": {},
   "outputs": [],
   "source": [
    "df = df.drop(['OP_CARRIER_FL_NUM'],axis=1)"
   ]
  },
  {
   "cell_type": "markdown",
   "id": "bc62d234",
   "metadata": {},
   "source": [
    "### Identify Correlation Between Numerical Attributes"
   ]
  },
  {
   "cell_type": "code",
   "execution_count": 18,
   "id": "afa53c88",
   "metadata": {},
   "outputs": [
    {
     "data": {
      "image/png": "[encoded data removed]",
      "text/plain": [
       "<Figure size 864x648 with 2 Axes>"
      ]
     },
     "metadata": {
      "needs_background": "light"
     },
     "output_type": "display_data"
    }
   ],
   "source": [
    "delcorrmat = df.corr()\n",
    "k = 10 #number of variables for heatmap\n",
    "f, ax = plt.subplots(figsize=(12, 9))\n",
    "cols = delcorrmat.nlargest(k, 'ARR_DELAY')['ARR_DELAY'].index\n",
    "cm = np.corrcoef(df[cols].values.T)\n",
    "sns.set(font_scale=1.25)\n",
    "hm = sns.heatmap(cm, cbar=True, annot=True, square=True, fmt='.2f', annot_kws={'size': 15}, yticklabels=cols.values, xticklabels=cols.values)\n",
    "plt.show()"
   ]
  },
  {
   "cell_type": "code",
   "execution_count": 25,
   "id": "797c6865",
   "metadata": {},
   "outputs": [
    {
     "data": {
      "text/plain": [
       "['CRS_DEP_TIME',\n",
       " 'DEP_TIME',\n",
       " 'WHEELS_OFF',\n",
       " 'WHEELS_ON',\n",
       " 'TAXI_IN',\n",
       " 'CRS_ARR_TIME',\n",
       " 'ARR_TIME',\n",
       " 'CRS_ELAPSED_TIME',\n",
       " 'ACTUAL_ELAPSED_TIME',\n",
       " 'AIR_TIME',\n",
       " 'DISTANCE',\n",
       " 'SECURITY_DELAY',\n",
       " 'FL_DATE_month',\n",
       " 'FL_DATE_year',\n",
       " 'FL_DATE_DAY']"
      ]
     },
     "execution_count": 25,
     "metadata": {},
     "output_type": "execute_result"
    }
   ],
   "source": [
    "# drop uncorrelated numeric features (threshold <0.2)\n",
    "corr = abs(df.corr().loc['ARR_DELAY'])\n",
    "corr_higher = corr[(corr<0.2)]\n",
    "cols_to_drop = corr_higher.index.to_list()\n",
    "cols_to_drop"
   ]
  },
  {
   "cell_type": "code",
   "execution_count": 30,
   "id": "bd5d6e56",
   "metadata": {},
   "outputs": [],
   "source": [
    "df.drop(cols_to_drop,axis=1,inplace=True)"
   ]
  },
  {
   "cell_type": "code",
   "execution_count": 31,
   "id": "f1b0d399",
   "metadata": {},
   "outputs": [
    {
     "name": "stdout",
     "output_type": "stream",
     "text": [
      "<class 'pandas.core.frame.DataFrame'>\n",
      "Int64Index: 18196559 entries, 0 to 18505724\n",
      "Data columns (total 10 columns):\n",
      " #   Column               Dtype   \n",
      "---  ------               -----   \n",
      " 0   OP_CARRIER           category\n",
      " 1   ORIGIN               category\n",
      " 2   DEST                 category\n",
      " 3   DEP_DELAY            float64 \n",
      " 4   TAXI_OUT             float64 \n",
      " 5   ARR_DELAY            float64 \n",
      " 6   CARRIER_DELAY        float64 \n",
      " 7   WEATHER_DELAY        float64 \n",
      " 8   NAS_DELAY            float64 \n",
      " 9   LATE_AIRCRAFT_DELAY  float64 \n",
      "dtypes: category(3), float64(7)\n",
      "memory usage: 1.2 GB\n"
     ]
    }
   ],
   "source": [
    "df.info()"
   ]
  },
  {
   "cell_type": "markdown",
   "id": "c04ac3c8",
   "metadata": {},
   "source": [
    "Dep_time and Wheels off time is highly correlated to each other. Drop Wheel_off as taxi out has higher correlation with the target variable"
   ]
  },
  {
   "cell_type": "markdown",
   "id": "0ef01f9c-89c4-4e2a-a75b-41fb87605c68",
   "metadata": {},
   "source": [
    "# Create new column - \"DELAY\""
   ]
  },
  {
   "cell_type": "markdown",
   "id": "fd9a7f6a-1c93-4322-8e70-5454baaa5064",
   "metadata": {},
   "source": [
    "Create a new column in the dataframe for delayed flights (1 = delayed, 0 = on time)"
   ]
  },
  {
   "cell_type": "code",
   "execution_count": 34,
   "id": "d8b428bb-57a0-45be-ac4a-1dc8d1f75878",
   "metadata": {},
   "outputs": [],
   "source": [
    "delay = []\n",
    "for row in df['ARR_DELAY']:\n",
    "        if row <= 0:    delay.append('0')\n",
    "        elif row > 0 :   delay.append('1')\n",
    "df['Delay'] = delay\n",
    "df['Delay'] = df['Delay'].astype('category')"
   ]
  },
  {
   "cell_type": "code",
   "execution_count": 40,
   "id": "7c676cf0",
   "metadata": {},
   "outputs": [],
   "source": [
    "df.drop(['ARR_DELAY'],axis=1,inplace=True)"
   ]
  },
  {
   "cell_type": "markdown",
   "id": "37c23409",
   "metadata": {},
   "source": [
    "# Encode Categorical Data"
   ]
  },
  {
   "cell_type": "code",
   "execution_count": 35,
   "id": "031519f2",
   "metadata": {},
   "outputs": [],
   "source": [
    "cat_columns = df.select_dtypes(['category']).columns"
   ]
  },
  {
   "cell_type": "code",
   "execution_count": 36,
   "id": "32053594",
   "metadata": {},
   "outputs": [],
   "source": [
    "df[cat_columns] = df[cat_columns].apply(lambda x: x.cat.codes)"
   ]
  },
  {
   "cell_type": "markdown",
   "id": "7d905789",
   "metadata": {},
   "source": [
    "# Check if the data distribution is balance"
   ]
  },
  {
   "cell_type": "code",
   "execution_count": 37,
   "id": "774edcac",
   "metadata": {},
   "outputs": [
    {
     "name": "stdout",
     "output_type": "stream",
     "text": [
      "0    11851178\n",
      "1     6345381\n",
      "Name: Delay, dtype: int64\n"
     ]
    },
    {
     "data": {
      "text/plain": [
       "<AxesSubplot:ylabel='Delay'>"
      ]
     },
     "execution_count": 37,
     "metadata": {},
     "output_type": "execute_result"
    },
    {
     "data": {
      "image/png": "[encoded data removed]",
      "text/plain": [
       "<Figure size 360x360 with 1 Axes>"
      ]
     },
     "metadata": {},
     "output_type": "display_data"
    }
   ],
   "source": [
    "print(df[\"Delay\"].value_counts())\n",
    "df[\"Delay\"].value_counts().plot(kind=\"pie\", autopct='%1.1f%%', figsize=(5,5))"
   ]
  },
  {
   "cell_type": "markdown",
   "id": "bbfeeecc",
   "metadata": {},
   "source": [
    "# Feature Scaling for Numerical Variable"
   ]
  },
  {
   "cell_type": "code",
   "execution_count": 42,
   "id": "f34a128e",
   "metadata": {},
   "outputs": [],
   "source": [
    "from sklearn.preprocessing import MinMaxScaler,StandardScaler\n",
    "mms = MinMaxScaler() # Normalization\n",
    "ss = StandardScaler() # Standardization"
   ]
  },
  {
   "cell_type": "code",
   "execution_count": 43,
   "id": "c5de9a56",
   "metadata": {},
   "outputs": [],
   "source": [
    "df['DEP_DELAY'] = mms.fit_transform(df[['DEP_DELAY']])\n",
    "df['TAXI_OUT'] = mms.fit_transform(df[['TAXI_OUT']])\n",
    "df['CARRIER_DELAY'] = mms.fit_transform(df[['CARRIER_DELAY']])\n",
    "df['WEATHER_DELAY'] = mms.fit_transform(df[['WEATHER_DELAY']])\n",
    "df['NAS_DELAY'] = mms.fit_transform(df[['NAS_DELAY']])\n",
    "df['LATE_AIRCRAFT_DELAY'] = mms.fit_transform(df[['LATE_AIRCRAFT_DELAY']])"
   ]
  },
  {
   "cell_type": "code",
   "execution_count": 44,
   "id": "40655ff9",
   "metadata": {},
   "outputs": [
    {
     "name": "stdout",
     "output_type": "stream",
     "text": [
      "<class 'pandas.core.frame.DataFrame'>\n",
      "Int64Index: 18196559 entries, 0 to 18505724\n",
      "Data columns (total 10 columns):\n",
      " #   Column               Dtype  \n",
      "---  ------               -----  \n",
      " 0   OP_CARRIER           int8   \n",
      " 1   ORIGIN               int16  \n",
      " 2   DEST                 int16  \n",
      " 3   DEP_DELAY            float64\n",
      " 4   TAXI_OUT             float64\n",
      " 5   CARRIER_DELAY        float64\n",
      " 6   WEATHER_DELAY        float64\n",
      " 7   NAS_DELAY            float64\n",
      " 8   LATE_AIRCRAFT_DELAY  float64\n",
      " 9   Delay                int8   \n",
      "dtypes: float64(6), int16(2), int8(2)\n",
      "memory usage: 1.1 GB\n"
     ]
    }
   ],
   "source": [
    "df.info()"
   ]
  },
  {
   "cell_type": "code",
   "execution_count": 46,
   "id": "cababd6a",
   "metadata": {},
   "outputs": [],
   "source": [
    "df.to_csv('model_data1.csv',index=False)"
   ]
  },
  {
   "cell_type": "code",
   "execution_count": 50,
   "id": "009bd8f1",
   "metadata": {},
   "outputs": [],
   "source": [
    "df.drop(['DEP_DELAY'],axis=1,inplace=True)"
   ]
  },
  {
   "cell_type": "code",
   "execution_count": 51,
   "id": "09bcf7a6",
   "metadata": {},
   "outputs": [],
   "source": [
    "df.to_csv('model_data2.csv',index=False)"
   ]
  }
 ],
 "metadata": {
  "kernelspec": {
   "display_name": "Python 3 (ipykernel)",
   "language": "python",
   "name": "python3"
  },
  "language_info": {
   "codemirror_mode": {
    "name": "ipython",
    "version": 3
   },
   "file_extension": ".py",
   "mimetype": "text/x-python",
   "name": "python",
   "nbconvert_exporter": "python",
   "pygments_lexer": "ipython3",
   "version": "3.9.12"
  }
 },
 "nbformat": 4,
 "nbformat_minor": 5
}
