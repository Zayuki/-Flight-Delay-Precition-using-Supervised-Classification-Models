{
 "cells": [
  {
   "cell_type": "code",
   "execution_count": 2,
   "id": "649850f0-92b0-4b66-8651-8304f7102faf",
   "metadata": {
    "jupyter": {
     "source_hidden": true
    },
    "tags": []
   },
   "outputs": [],
   "source": [
    "import pandas as pd\n",
    "import glob\n",
    "import os\n",
    "import seaborn as sns\n",
    "import matplotlib.pyplot as plt"
   ]
  },
  {
   "cell_type": "code",
   "execution_count": 3,
   "id": "6349dcce-7698-47f9-9793-d172563c9fe3",
   "metadata": {},
   "outputs": [],
   "source": [
    "# importing pandas\n",
    "import pandas as pd\n",
    "  \n",
    "# merging 3 csv files into 1 csv file\n",
    "df = pd.concat(\n",
    "    map(pd.read_csv, ['2016.csv', '2017.csv','2018.csv']), ignore_index=True)"
   ]
  },
  {
   "cell_type": "code",
   "execution_count": 4,
   "id": "4a8d1620-a3f2-4287-8e95-9dd30035a2fe",
   "metadata": {},
   "outputs": [
    {
     "name": "stdout",
     "output_type": "stream",
     "text": [
      "Total row in all csv files:  18505725\n"
     ]
    }
   ],
   "source": [
    "print(\"Total row in all csv files: \",len(df))"
   ]
  },
  {
   "cell_type": "code",
   "execution_count": 5,
   "id": "ad6f31b8-2242-489a-9dcb-421f87fa178d",
   "metadata": {},
   "outputs": [
    {
     "name": "stdout",
     "output_type": "stream",
     "text": [
      "<class 'pandas.core.frame.DataFrame'>\n",
      "RangeIndex: 18505725 entries, 0 to 18505724\n",
      "Data columns (total 28 columns):\n",
      " #   Column               Dtype  \n",
      "---  ------               -----  \n",
      " 0   FL_DATE              object \n",
      " 1   OP_CARRIER           object \n",
      " 2   OP_CARRIER_FL_NUM    int64  \n",
      " 3   ORIGIN               object \n",
      " 4   DEST                 object \n",
      " 5   CRS_DEP_TIME         int64  \n",
      " 6   DEP_TIME             float64\n",
      " 7   DEP_DELAY            float64\n",
      " 8   TAXI_OUT             float64\n",
      " 9   WHEELS_OFF           float64\n",
      " 10  WHEELS_ON            float64\n",
      " 11  TAXI_IN              float64\n",
      " 12  CRS_ARR_TIME         int64  \n",
      " 13  ARR_TIME             float64\n",
      " 14  ARR_DELAY            float64\n",
      " 15  CANCELLED            float64\n",
      " 16  CANCELLATION_CODE    object \n",
      " 17  DIVERTED             float64\n",
      " 18  CRS_ELAPSED_TIME     float64\n",
      " 19  ACTUAL_ELAPSED_TIME  float64\n",
      " 20  AIR_TIME             float64\n",
      " 21  DISTANCE             float64\n",
      " 22  CARRIER_DELAY        float64\n",
      " 23  WEATHER_DELAY        float64\n",
      " 24  NAS_DELAY            float64\n",
      " 25  SECURITY_DELAY       float64\n",
      " 26  LATE_AIRCRAFT_DELAY  float64\n",
      " 27  Unnamed: 27          float64\n",
      "dtypes: float64(20), int64(3), object(5)\n",
      "memory usage: 3.9+ GB\n"
     ]
    }
   ],
   "source": [
    "df.info()"
   ]
  },
  {
   "cell_type": "code",
   "execution_count": 6,
   "id": "f4a9110b-7d36-419e-94ef-b86242fe7a66",
   "metadata": {},
   "outputs": [
    {
     "data": {
      "text/html": [
       "<div>\n",
       "<style scoped>\n",
       "    .dataframe tbody tr th:only-of-type {\n",
       "        vertical-align: middle;\n",
       "    }\n",
       "\n",
       "    .dataframe tbody tr th {\n",
       "        vertical-align: top;\n",
       "    }\n",
       "\n",
       "    .dataframe thead th {\n",
       "        text-align: right;\n",
       "    }\n",
       "</style>\n",
       "<table border=\"1\" class=\"dataframe\">\n",
       "  <thead>\n",
       "    <tr style=\"text-align: right;\">\n",
       "      <th></th>\n",
       "      <th>OP_CARRIER_FL_NUM</th>\n",
       "      <th>CRS_DEP_TIME</th>\n",
       "      <th>DEP_TIME</th>\n",
       "      <th>DEP_DELAY</th>\n",
       "      <th>TAXI_OUT</th>\n",
       "      <th>WHEELS_OFF</th>\n",
       "      <th>WHEELS_ON</th>\n",
       "      <th>TAXI_IN</th>\n",
       "      <th>CRS_ARR_TIME</th>\n",
       "      <th>ARR_TIME</th>\n",
       "      <th>...</th>\n",
       "      <th>CRS_ELAPSED_TIME</th>\n",
       "      <th>ACTUAL_ELAPSED_TIME</th>\n",
       "      <th>AIR_TIME</th>\n",
       "      <th>DISTANCE</th>\n",
       "      <th>CARRIER_DELAY</th>\n",
       "      <th>WEATHER_DELAY</th>\n",
       "      <th>NAS_DELAY</th>\n",
       "      <th>SECURITY_DELAY</th>\n",
       "      <th>LATE_AIRCRAFT_DELAY</th>\n",
       "      <th>Unnamed: 27</th>\n",
       "    </tr>\n",
       "  </thead>\n",
       "  <tbody>\n",
       "    <tr>\n",
       "      <th>count</th>\n",
       "      <td>1.850572e+07</td>\n",
       "      <td>1.850572e+07</td>\n",
       "      <td>1.824964e+07</td>\n",
       "      <td>1.824469e+07</td>\n",
       "      <td>1.824233e+07</td>\n",
       "      <td>1.824234e+07</td>\n",
       "      <td>1.823396e+07</td>\n",
       "      <td>1.823396e+07</td>\n",
       "      <td>1.850572e+07</td>\n",
       "      <td>1.823396e+07</td>\n",
       "      <td>...</td>\n",
       "      <td>1.850570e+07</td>\n",
       "      <td>1.819656e+07</td>\n",
       "      <td>1.819656e+07</td>\n",
       "      <td>1.850572e+07</td>\n",
       "      <td>3.346422e+06</td>\n",
       "      <td>3.346422e+06</td>\n",
       "      <td>3.346422e+06</td>\n",
       "      <td>3.346422e+06</td>\n",
       "      <td>3.346422e+06</td>\n",
       "      <td>0.0</td>\n",
       "    </tr>\n",
       "    <tr>\n",
       "      <th>mean</th>\n",
       "      <td>2.304636e+03</td>\n",
       "      <td>1.330173e+03</td>\n",
       "      <td>1.333743e+03</td>\n",
       "      <td>9.580880e+00</td>\n",
       "      <td>1.684608e+01</td>\n",
       "      <td>1.356366e+03</td>\n",
       "      <td>1.464456e+03</td>\n",
       "      <td>7.527831e+00</td>\n",
       "      <td>1.488610e+03</td>\n",
       "      <td>1.468884e+03</td>\n",
       "      <td>...</td>\n",
       "      <td>1.442253e+02</td>\n",
       "      <td>1.392277e+02</td>\n",
       "      <td>1.148660e+02</td>\n",
       "      <td>8.325811e+02</td>\n",
       "      <td>1.983223e+01</td>\n",
       "      <td>3.085360e+00</td>\n",
       "      <td>1.558675e+01</td>\n",
       "      <td>9.043271e-02</td>\n",
       "      <td>2.511713e+01</td>\n",
       "      <td>NaN</td>\n",
       "    </tr>\n",
       "    <tr>\n",
       "      <th>std</th>\n",
       "      <td>1.792030e+03</td>\n",
       "      <td>4.905252e+02</td>\n",
       "      <td>5.038671e+02</td>\n",
       "      <td>4.304882e+01</td>\n",
       "      <td>9.441980e+00</td>\n",
       "      <td>5.055427e+02</td>\n",
       "      <td>5.326592e+02</td>\n",
       "      <td>5.909656e+00</td>\n",
       "      <td>5.179178e+02</td>\n",
       "      <td>5.370026e+02</td>\n",
       "      <td>...</td>\n",
       "      <td>7.550062e+01</td>\n",
       "      <td>7.503799e+01</td>\n",
       "      <td>7.288150e+01</td>\n",
       "      <td>6.133906e+02</td>\n",
       "      <td>5.952605e+01</td>\n",
       "      <td>2.604034e+01</td>\n",
       "      <td>3.445542e+01</td>\n",
       "      <td>2.929289e+00</td>\n",
       "      <td>4.807805e+01</td>\n",
       "      <td>NaN</td>\n",
       "    </tr>\n",
       "    <tr>\n",
       "      <th>min</th>\n",
       "      <td>1.000000e+00</td>\n",
       "      <td>1.000000e+00</td>\n",
       "      <td>1.000000e+00</td>\n",
       "      <td>-2.340000e+02</td>\n",
       "      <td>0.000000e+00</td>\n",
       "      <td>1.000000e+00</td>\n",
       "      <td>1.000000e+00</td>\n",
       "      <td>0.000000e+00</td>\n",
       "      <td>1.000000e+00</td>\n",
       "      <td>1.000000e+00</td>\n",
       "      <td>...</td>\n",
       "      <td>-9.900000e+01</td>\n",
       "      <td>1.400000e+01</td>\n",
       "      <td>4.000000e+00</td>\n",
       "      <td>2.500000e+01</td>\n",
       "      <td>0.000000e+00</td>\n",
       "      <td>0.000000e+00</td>\n",
       "      <td>0.000000e+00</td>\n",
       "      <td>0.000000e+00</td>\n",
       "      <td>0.000000e+00</td>\n",
       "      <td>NaN</td>\n",
       "    </tr>\n",
       "    <tr>\n",
       "      <th>25%</th>\n",
       "      <td>8.020000e+02</td>\n",
       "      <td>9.150000e+02</td>\n",
       "      <td>9.160000e+02</td>\n",
       "      <td>-5.000000e+00</td>\n",
       "      <td>1.100000e+01</td>\n",
       "      <td>9.310000e+02</td>\n",
       "      <td>1.046000e+03</td>\n",
       "      <td>4.000000e+00</td>\n",
       "      <td>1.102000e+03</td>\n",
       "      <td>1.050000e+03</td>\n",
       "      <td>...</td>\n",
       "      <td>8.900000e+01</td>\n",
       "      <td>8.400000e+01</td>\n",
       "      <td>6.100000e+01</td>\n",
       "      <td>3.740000e+02</td>\n",
       "      <td>0.000000e+00</td>\n",
       "      <td>0.000000e+00</td>\n",
       "      <td>0.000000e+00</td>\n",
       "      <td>0.000000e+00</td>\n",
       "      <td>0.000000e+00</td>\n",
       "      <td>NaN</td>\n",
       "    </tr>\n",
       "    <tr>\n",
       "      <th>50%</th>\n",
       "      <td>1.819000e+03</td>\n",
       "      <td>1.323000e+03</td>\n",
       "      <td>1.327000e+03</td>\n",
       "      <td>-2.000000e+00</td>\n",
       "      <td>1.400000e+01</td>\n",
       "      <td>1.340000e+03</td>\n",
       "      <td>1.505000e+03</td>\n",
       "      <td>6.000000e+00</td>\n",
       "      <td>1.518000e+03</td>\n",
       "      <td>1.509000e+03</td>\n",
       "      <td>...</td>\n",
       "      <td>1.250000e+02</td>\n",
       "      <td>1.200000e+02</td>\n",
       "      <td>9.600000e+01</td>\n",
       "      <td>6.660000e+02</td>\n",
       "      <td>1.000000e+00</td>\n",
       "      <td>0.000000e+00</td>\n",
       "      <td>2.000000e+00</td>\n",
       "      <td>0.000000e+00</td>\n",
       "      <td>3.000000e+00</td>\n",
       "      <td>NaN</td>\n",
       "    </tr>\n",
       "    <tr>\n",
       "      <th>75%</th>\n",
       "      <td>3.554000e+03</td>\n",
       "      <td>1.735000e+03</td>\n",
       "      <td>1.743000e+03</td>\n",
       "      <td>6.000000e+00</td>\n",
       "      <td>2.000000e+01</td>\n",
       "      <td>1.758000e+03</td>\n",
       "      <td>1.912000e+03</td>\n",
       "      <td>9.000000e+00</td>\n",
       "      <td>1.920000e+03</td>\n",
       "      <td>1.917000e+03</td>\n",
       "      <td>...</td>\n",
       "      <td>1.750000e+02</td>\n",
       "      <td>1.710000e+02</td>\n",
       "      <td>1.450000e+02</td>\n",
       "      <td>1.069000e+03</td>\n",
       "      <td>1.700000e+01</td>\n",
       "      <td>0.000000e+00</td>\n",
       "      <td>1.900000e+01</td>\n",
       "      <td>0.000000e+00</td>\n",
       "      <td>3.100000e+01</td>\n",
       "      <td>NaN</td>\n",
       "    </tr>\n",
       "    <tr>\n",
       "      <th>max</th>\n",
       "      <td>8.402000e+03</td>\n",
       "      <td>2.359000e+03</td>\n",
       "      <td>2.400000e+03</td>\n",
       "      <td>2.755000e+03</td>\n",
       "      <td>1.960000e+02</td>\n",
       "      <td>2.400000e+03</td>\n",
       "      <td>2.400000e+03</td>\n",
       "      <td>4.140000e+02</td>\n",
       "      <td>2.400000e+03</td>\n",
       "      <td>2.400000e+03</td>\n",
       "      <td>...</td>\n",
       "      <td>7.180000e+02</td>\n",
       "      <td>7.840000e+02</td>\n",
       "      <td>7.230000e+02</td>\n",
       "      <td>4.983000e+03</td>\n",
       "      <td>2.142000e+03</td>\n",
       "      <td>2.692000e+03</td>\n",
       "      <td>1.848000e+03</td>\n",
       "      <td>9.870000e+02</td>\n",
       "      <td>2.454000e+03</td>\n",
       "      <td>NaN</td>\n",
       "    </tr>\n",
       "  </tbody>\n",
       "</table>\n",
       "<p>8 rows × 23 columns</p>\n",
       "</div>"
      ],
      "text/plain": [
       "       OP_CARRIER_FL_NUM  CRS_DEP_TIME      DEP_TIME     DEP_DELAY  \\\n",
       "count       1.850572e+07  1.850572e+07  1.824964e+07  1.824469e+07   \n",
       "mean        2.304636e+03  1.330173e+03  1.333743e+03  9.580880e+00   \n",
       "std         1.792030e+03  4.905252e+02  5.038671e+02  4.304882e+01   \n",
       "min         1.000000e+00  1.000000e+00  1.000000e+00 -2.340000e+02   \n",
       "25%         8.020000e+02  9.150000e+02  9.160000e+02 -5.000000e+00   \n",
       "50%         1.819000e+03  1.323000e+03  1.327000e+03 -2.000000e+00   \n",
       "75%         3.554000e+03  1.735000e+03  1.743000e+03  6.000000e+00   \n",
       "max         8.402000e+03  2.359000e+03  2.400000e+03  2.755000e+03   \n",
       "\n",
       "           TAXI_OUT    WHEELS_OFF     WHEELS_ON       TAXI_IN  CRS_ARR_TIME  \\\n",
       "count  1.824233e+07  1.824234e+07  1.823396e+07  1.823396e+07  1.850572e+07   \n",
       "mean   1.684608e+01  1.356366e+03  1.464456e+03  7.527831e+00  1.488610e+03   \n",
       "std    9.441980e+00  5.055427e+02  5.326592e+02  5.909656e+00  5.179178e+02   \n",
       "min    0.000000e+00  1.000000e+00  1.000000e+00  0.000000e+00  1.000000e+00   \n",
       "25%    1.100000e+01  9.310000e+02  1.046000e+03  4.000000e+00  1.102000e+03   \n",
       "50%    1.400000e+01  1.340000e+03  1.505000e+03  6.000000e+00  1.518000e+03   \n",
       "75%    2.000000e+01  1.758000e+03  1.912000e+03  9.000000e+00  1.920000e+03   \n",
       "max    1.960000e+02  2.400000e+03  2.400000e+03  4.140000e+02  2.400000e+03   \n",
       "\n",
       "           ARR_TIME  ...  CRS_ELAPSED_TIME  ACTUAL_ELAPSED_TIME      AIR_TIME  \\\n",
       "count  1.823396e+07  ...      1.850570e+07         1.819656e+07  1.819656e+07   \n",
       "mean   1.468884e+03  ...      1.442253e+02         1.392277e+02  1.148660e+02   \n",
       "std    5.370026e+02  ...      7.550062e+01         7.503799e+01  7.288150e+01   \n",
       "min    1.000000e+00  ...     -9.900000e+01         1.400000e+01  4.000000e+00   \n",
       "25%    1.050000e+03  ...      8.900000e+01         8.400000e+01  6.100000e+01   \n",
       "50%    1.509000e+03  ...      1.250000e+02         1.200000e+02  9.600000e+01   \n",
       "75%    1.917000e+03  ...      1.750000e+02         1.710000e+02  1.450000e+02   \n",
       "max    2.400000e+03  ...      7.180000e+02         7.840000e+02  7.230000e+02   \n",
       "\n",
       "           DISTANCE  CARRIER_DELAY  WEATHER_DELAY     NAS_DELAY  \\\n",
       "count  1.850572e+07   3.346422e+06   3.346422e+06  3.346422e+06   \n",
       "mean   8.325811e+02   1.983223e+01   3.085360e+00  1.558675e+01   \n",
       "std    6.133906e+02   5.952605e+01   2.604034e+01  3.445542e+01   \n",
       "min    2.500000e+01   0.000000e+00   0.000000e+00  0.000000e+00   \n",
       "25%    3.740000e+02   0.000000e+00   0.000000e+00  0.000000e+00   \n",
       "50%    6.660000e+02   1.000000e+00   0.000000e+00  2.000000e+00   \n",
       "75%    1.069000e+03   1.700000e+01   0.000000e+00  1.900000e+01   \n",
       "max    4.983000e+03   2.142000e+03   2.692000e+03  1.848000e+03   \n",
       "\n",
       "       SECURITY_DELAY  LATE_AIRCRAFT_DELAY  Unnamed: 27  \n",
       "count    3.346422e+06         3.346422e+06          0.0  \n",
       "mean     9.043271e-02         2.511713e+01          NaN  \n",
       "std      2.929289e+00         4.807805e+01          NaN  \n",
       "min      0.000000e+00         0.000000e+00          NaN  \n",
       "25%      0.000000e+00         0.000000e+00          NaN  \n",
       "50%      0.000000e+00         3.000000e+00          NaN  \n",
       "75%      0.000000e+00         3.100000e+01          NaN  \n",
       "max      9.870000e+02         2.454000e+03          NaN  \n",
       "\n",
       "[8 rows x 23 columns]"
      ]
     },
     "execution_count": 6,
     "metadata": {},
     "output_type": "execute_result"
    }
   ],
   "source": [
    "df.describe()"
   ]
  },
  {
   "cell_type": "code",
   "execution_count": 7,
   "id": "a22714ff-dfa8-4322-9ef3-2eb20580e754",
   "metadata": {},
   "outputs": [],
   "source": [
    "#Export merged datasets to csv file.\n",
    "df.to_csv('merged.csv', index=False)"
   ]
  },
  {
   "cell_type": "code",
   "execution_count": 8,
   "id": "7fccc5a8-1c12-4b05-a745-6b5454acb1ec",
   "metadata": {},
   "outputs": [
    {
     "data": {
      "text/plain": [
       "115332132"
      ]
     },
     "execution_count": 8,
     "metadata": {},
     "output_type": "execute_result"
    }
   ],
   "source": [
    "df.isna().sum().sum()"
   ]
  },
  {
   "cell_type": "markdown",
   "id": "2540d8e6-e0c6-46ac-9a8f-88c30a532cc2",
   "metadata": {},
   "source": [
    "# Exploratory Data Analysis"
   ]
  },
  {
   "cell_type": "markdown",
   "id": "841f55a3-dff3-4e1d-a853-0e039339da82",
   "metadata": {},
   "source": [
    "### Cancelled Flight Exploration"
   ]
  },
  {
   "cell_type": "markdown",
   "id": "900ea724-ce07-43ac-b44a-82279d7558d4",
   "metadata": {},
   "source": [
    "Total number of cancelled flight:"
   ]
  },
  {
   "cell_type": "code",
   "execution_count": 9,
   "id": "f4fae4b3-5ca3-4906-a253-de182333717a",
   "metadata": {},
   "outputs": [
    {
     "data": {
      "text/plain": [
       "265138.0"
      ]
     },
     "execution_count": 9,
     "metadata": {},
     "output_type": "execute_result"
    }
   ],
   "source": [
    "df.CANCELLED.sum()"
   ]
  },
  {
   "cell_type": "markdown",
   "id": "e0e979a2-8b69-44e3-8b3f-c8107adf4b84",
   "metadata": {},
   "source": [
    "Unique value of cancelled flight:"
   ]
  },
  {
   "cell_type": "code",
   "execution_count": 10,
   "id": "ad347ce7-7a47-4352-8d38-6cb43b871a66",
   "metadata": {},
   "outputs": [
    {
     "data": {
      "text/plain": [
       "array([0., 1.])"
      ]
     },
     "execution_count": 10,
     "metadata": {},
     "output_type": "execute_result"
    }
   ],
   "source": [
    "df.CANCELLED.unique()"
   ]
  },
  {
   "cell_type": "markdown",
   "id": "db9e56d6-df77-4500-8ed5-454f82cc5ddb",
   "metadata": {},
   "source": [
    "Rows of cancelled flight:"
   ]
  },
  {
   "cell_type": "code",
   "execution_count": 11,
   "id": "9277853d-5869-4cdc-9290-4396ad4e182d",
   "metadata": {},
   "outputs": [
    {
     "data": {
      "text/html": [
       "<div>\n",
       "<style scoped>\n",
       "    .dataframe tbody tr th:only-of-type {\n",
       "        vertical-align: middle;\n",
       "    }\n",
       "\n",
       "    .dataframe tbody tr th {\n",
       "        vertical-align: top;\n",
       "    }\n",
       "\n",
       "    .dataframe thead th {\n",
       "        text-align: right;\n",
       "    }\n",
       "</style>\n",
       "<table border=\"1\" class=\"dataframe\">\n",
       "  <thead>\n",
       "    <tr style=\"text-align: right;\">\n",
       "      <th></th>\n",
       "      <th>FL_DATE</th>\n",
       "      <th>OP_CARRIER</th>\n",
       "      <th>OP_CARRIER_FL_NUM</th>\n",
       "      <th>ORIGIN</th>\n",
       "      <th>DEST</th>\n",
       "      <th>CRS_DEP_TIME</th>\n",
       "      <th>DEP_TIME</th>\n",
       "      <th>DEP_DELAY</th>\n",
       "      <th>TAXI_OUT</th>\n",
       "      <th>WHEELS_OFF</th>\n",
       "      <th>...</th>\n",
       "      <th>CRS_ELAPSED_TIME</th>\n",
       "      <th>ACTUAL_ELAPSED_TIME</th>\n",
       "      <th>AIR_TIME</th>\n",
       "      <th>DISTANCE</th>\n",
       "      <th>CARRIER_DELAY</th>\n",
       "      <th>WEATHER_DELAY</th>\n",
       "      <th>NAS_DELAY</th>\n",
       "      <th>SECURITY_DELAY</th>\n",
       "      <th>LATE_AIRCRAFT_DELAY</th>\n",
       "      <th>Unnamed: 27</th>\n",
       "    </tr>\n",
       "  </thead>\n",
       "  <tbody>\n",
       "    <tr>\n",
       "      <th>699</th>\n",
       "      <td>2016-01-01</td>\n",
       "      <td>AS</td>\n",
       "      <td>29</td>\n",
       "      <td>ORD</td>\n",
       "      <td>SEA</td>\n",
       "      <td>1530</td>\n",
       "      <td>NaN</td>\n",
       "      <td>NaN</td>\n",
       "      <td>NaN</td>\n",
       "      <td>NaN</td>\n",
       "      <td>...</td>\n",
       "      <td>285.0</td>\n",
       "      <td>NaN</td>\n",
       "      <td>NaN</td>\n",
       "      <td>1721.0</td>\n",
       "      <td>NaN</td>\n",
       "      <td>NaN</td>\n",
       "      <td>NaN</td>\n",
       "      <td>NaN</td>\n",
       "      <td>NaN</td>\n",
       "      <td>NaN</td>\n",
       "    </tr>\n",
       "    <tr>\n",
       "      <th>710</th>\n",
       "      <td>2016-01-01</td>\n",
       "      <td>AS</td>\n",
       "      <td>40</td>\n",
       "      <td>ADQ</td>\n",
       "      <td>ANC</td>\n",
       "      <td>1720</td>\n",
       "      <td>NaN</td>\n",
       "      <td>NaN</td>\n",
       "      <td>NaN</td>\n",
       "      <td>NaN</td>\n",
       "      <td>...</td>\n",
       "      <td>49.0</td>\n",
       "      <td>NaN</td>\n",
       "      <td>NaN</td>\n",
       "      <td>253.0</td>\n",
       "      <td>NaN</td>\n",
       "      <td>NaN</td>\n",
       "      <td>NaN</td>\n",
       "      <td>NaN</td>\n",
       "      <td>NaN</td>\n",
       "      <td>NaN</td>\n",
       "    </tr>\n",
       "    <tr>\n",
       "      <th>713</th>\n",
       "      <td>2016-01-01</td>\n",
       "      <td>AS</td>\n",
       "      <td>49</td>\n",
       "      <td>ANC</td>\n",
       "      <td>ADQ</td>\n",
       "      <td>1530</td>\n",
       "      <td>NaN</td>\n",
       "      <td>NaN</td>\n",
       "      <td>NaN</td>\n",
       "      <td>NaN</td>\n",
       "      <td>...</td>\n",
       "      <td>58.0</td>\n",
       "      <td>NaN</td>\n",
       "      <td>NaN</td>\n",
       "      <td>253.0</td>\n",
       "      <td>NaN</td>\n",
       "      <td>NaN</td>\n",
       "      <td>NaN</td>\n",
       "      <td>NaN</td>\n",
       "      <td>NaN</td>\n",
       "      <td>NaN</td>\n",
       "    </tr>\n",
       "    <tr>\n",
       "      <th>1231</th>\n",
       "      <td>2016-01-01</td>\n",
       "      <td>EV</td>\n",
       "      <td>3274</td>\n",
       "      <td>ERI</td>\n",
       "      <td>ORD</td>\n",
       "      <td>1655</td>\n",
       "      <td>NaN</td>\n",
       "      <td>NaN</td>\n",
       "      <td>NaN</td>\n",
       "      <td>NaN</td>\n",
       "      <td>...</td>\n",
       "      <td>104.0</td>\n",
       "      <td>NaN</td>\n",
       "      <td>NaN</td>\n",
       "      <td>398.0</td>\n",
       "      <td>NaN</td>\n",
       "      <td>NaN</td>\n",
       "      <td>NaN</td>\n",
       "      <td>NaN</td>\n",
       "      <td>NaN</td>\n",
       "      <td>NaN</td>\n",
       "    </tr>\n",
       "    <tr>\n",
       "      <th>1242</th>\n",
       "      <td>2016-01-01</td>\n",
       "      <td>EV</td>\n",
       "      <td>3815</td>\n",
       "      <td>IAH</td>\n",
       "      <td>OKC</td>\n",
       "      <td>1445</td>\n",
       "      <td>NaN</td>\n",
       "      <td>NaN</td>\n",
       "      <td>NaN</td>\n",
       "      <td>NaN</td>\n",
       "      <td>...</td>\n",
       "      <td>90.0</td>\n",
       "      <td>NaN</td>\n",
       "      <td>NaN</td>\n",
       "      <td>395.0</td>\n",
       "      <td>NaN</td>\n",
       "      <td>NaN</td>\n",
       "      <td>NaN</td>\n",
       "      <td>NaN</td>\n",
       "      <td>NaN</td>\n",
       "      <td>NaN</td>\n",
       "    </tr>\n",
       "    <tr>\n",
       "      <th>...</th>\n",
       "      <td>...</td>\n",
       "      <td>...</td>\n",
       "      <td>...</td>\n",
       "      <td>...</td>\n",
       "      <td>...</td>\n",
       "      <td>...</td>\n",
       "      <td>...</td>\n",
       "      <td>...</td>\n",
       "      <td>...</td>\n",
       "      <td>...</td>\n",
       "      <td>...</td>\n",
       "      <td>...</td>\n",
       "      <td>...</td>\n",
       "      <td>...</td>\n",
       "      <td>...</td>\n",
       "      <td>...</td>\n",
       "      <td>...</td>\n",
       "      <td>...</td>\n",
       "      <td>...</td>\n",
       "      <td>...</td>\n",
       "      <td>...</td>\n",
       "    </tr>\n",
       "    <tr>\n",
       "      <th>18504756</th>\n",
       "      <td>2018-12-31</td>\n",
       "      <td>OO</td>\n",
       "      <td>7365</td>\n",
       "      <td>ABR</td>\n",
       "      <td>MSP</td>\n",
       "      <td>500</td>\n",
       "      <td>NaN</td>\n",
       "      <td>NaN</td>\n",
       "      <td>NaN</td>\n",
       "      <td>NaN</td>\n",
       "      <td>...</td>\n",
       "      <td>80.0</td>\n",
       "      <td>NaN</td>\n",
       "      <td>NaN</td>\n",
       "      <td>257.0</td>\n",
       "      <td>NaN</td>\n",
       "      <td>NaN</td>\n",
       "      <td>NaN</td>\n",
       "      <td>NaN</td>\n",
       "      <td>NaN</td>\n",
       "      <td>NaN</td>\n",
       "    </tr>\n",
       "    <tr>\n",
       "      <th>18505036</th>\n",
       "      <td>2018-12-31</td>\n",
       "      <td>AA</td>\n",
       "      <td>147</td>\n",
       "      <td>LAX</td>\n",
       "      <td>EGE</td>\n",
       "      <td>840</td>\n",
       "      <td>839.0</td>\n",
       "      <td>-1.0</td>\n",
       "      <td>NaN</td>\n",
       "      <td>NaN</td>\n",
       "      <td>...</td>\n",
       "      <td>145.0</td>\n",
       "      <td>NaN</td>\n",
       "      <td>NaN</td>\n",
       "      <td>748.0</td>\n",
       "      <td>NaN</td>\n",
       "      <td>NaN</td>\n",
       "      <td>NaN</td>\n",
       "      <td>NaN</td>\n",
       "      <td>NaN</td>\n",
       "      <td>NaN</td>\n",
       "    </tr>\n",
       "    <tr>\n",
       "      <th>18505038</th>\n",
       "      <td>2018-12-31</td>\n",
       "      <td>AA</td>\n",
       "      <td>149</td>\n",
       "      <td>EGE</td>\n",
       "      <td>LAX</td>\n",
       "      <td>1444</td>\n",
       "      <td>NaN</td>\n",
       "      <td>NaN</td>\n",
       "      <td>NaN</td>\n",
       "      <td>NaN</td>\n",
       "      <td>...</td>\n",
       "      <td>142.0</td>\n",
       "      <td>NaN</td>\n",
       "      <td>NaN</td>\n",
       "      <td>748.0</td>\n",
       "      <td>NaN</td>\n",
       "      <td>NaN</td>\n",
       "      <td>NaN</td>\n",
       "      <td>NaN</td>\n",
       "      <td>NaN</td>\n",
       "      <td>NaN</td>\n",
       "    </tr>\n",
       "    <tr>\n",
       "      <th>18505051</th>\n",
       "      <td>2018-12-31</td>\n",
       "      <td>AA</td>\n",
       "      <td>165</td>\n",
       "      <td>DFW</td>\n",
       "      <td>EGE</td>\n",
       "      <td>845</td>\n",
       "      <td>836.0</td>\n",
       "      <td>-9.0</td>\n",
       "      <td>10.0</td>\n",
       "      <td>846.0</td>\n",
       "      <td>...</td>\n",
       "      <td>154.0</td>\n",
       "      <td>NaN</td>\n",
       "      <td>NaN</td>\n",
       "      <td>721.0</td>\n",
       "      <td>NaN</td>\n",
       "      <td>NaN</td>\n",
       "      <td>NaN</td>\n",
       "      <td>NaN</td>\n",
       "      <td>NaN</td>\n",
       "      <td>NaN</td>\n",
       "    </tr>\n",
       "    <tr>\n",
       "      <th>18505052</th>\n",
       "      <td>2018-12-31</td>\n",
       "      <td>AA</td>\n",
       "      <td>165</td>\n",
       "      <td>EGE</td>\n",
       "      <td>DFW</td>\n",
       "      <td>1059</td>\n",
       "      <td>NaN</td>\n",
       "      <td>NaN</td>\n",
       "      <td>NaN</td>\n",
       "      <td>NaN</td>\n",
       "      <td>...</td>\n",
       "      <td>131.0</td>\n",
       "      <td>NaN</td>\n",
       "      <td>NaN</td>\n",
       "      <td>721.0</td>\n",
       "      <td>NaN</td>\n",
       "      <td>NaN</td>\n",
       "      <td>NaN</td>\n",
       "      <td>NaN</td>\n",
       "      <td>NaN</td>\n",
       "      <td>NaN</td>\n",
       "    </tr>\n",
       "  </tbody>\n",
       "</table>\n",
       "<p>265138 rows × 28 columns</p>\n",
       "</div>"
      ],
      "text/plain": [
       "             FL_DATE OP_CARRIER  OP_CARRIER_FL_NUM ORIGIN DEST  CRS_DEP_TIME  \\\n",
       "699       2016-01-01         AS                 29    ORD  SEA          1530   \n",
       "710       2016-01-01         AS                 40    ADQ  ANC          1720   \n",
       "713       2016-01-01         AS                 49    ANC  ADQ          1530   \n",
       "1231      2016-01-01         EV               3274    ERI  ORD          1655   \n",
       "1242      2016-01-01         EV               3815    IAH  OKC          1445   \n",
       "...              ...        ...                ...    ...  ...           ...   \n",
       "18504756  2018-12-31         OO               7365    ABR  MSP           500   \n",
       "18505036  2018-12-31         AA                147    LAX  EGE           840   \n",
       "18505038  2018-12-31         AA                149    EGE  LAX          1444   \n",
       "18505051  2018-12-31         AA                165    DFW  EGE           845   \n",
       "18505052  2018-12-31         AA                165    EGE  DFW          1059   \n",
       "\n",
       "          DEP_TIME  DEP_DELAY  TAXI_OUT  WHEELS_OFF  ...  CRS_ELAPSED_TIME  \\\n",
       "699            NaN        NaN       NaN         NaN  ...             285.0   \n",
       "710            NaN        NaN       NaN         NaN  ...              49.0   \n",
       "713            NaN        NaN       NaN         NaN  ...              58.0   \n",
       "1231           NaN        NaN       NaN         NaN  ...             104.0   \n",
       "1242           NaN        NaN       NaN         NaN  ...              90.0   \n",
       "...            ...        ...       ...         ...  ...               ...   \n",
       "18504756       NaN        NaN       NaN         NaN  ...              80.0   \n",
       "18505036     839.0       -1.0       NaN         NaN  ...             145.0   \n",
       "18505038       NaN        NaN       NaN         NaN  ...             142.0   \n",
       "18505051     836.0       -9.0      10.0       846.0  ...             154.0   \n",
       "18505052       NaN        NaN       NaN         NaN  ...             131.0   \n",
       "\n",
       "          ACTUAL_ELAPSED_TIME  AIR_TIME  DISTANCE  CARRIER_DELAY  \\\n",
       "699                       NaN       NaN    1721.0            NaN   \n",
       "710                       NaN       NaN     253.0            NaN   \n",
       "713                       NaN       NaN     253.0            NaN   \n",
       "1231                      NaN       NaN     398.0            NaN   \n",
       "1242                      NaN       NaN     395.0            NaN   \n",
       "...                       ...       ...       ...            ...   \n",
       "18504756                  NaN       NaN     257.0            NaN   \n",
       "18505036                  NaN       NaN     748.0            NaN   \n",
       "18505038                  NaN       NaN     748.0            NaN   \n",
       "18505051                  NaN       NaN     721.0            NaN   \n",
       "18505052                  NaN       NaN     721.0            NaN   \n",
       "\n",
       "          WEATHER_DELAY NAS_DELAY  SECURITY_DELAY  LATE_AIRCRAFT_DELAY  \\\n",
       "699                 NaN       NaN             NaN                  NaN   \n",
       "710                 NaN       NaN             NaN                  NaN   \n",
       "713                 NaN       NaN             NaN                  NaN   \n",
       "1231                NaN       NaN             NaN                  NaN   \n",
       "1242                NaN       NaN             NaN                  NaN   \n",
       "...                 ...       ...             ...                  ...   \n",
       "18504756            NaN       NaN             NaN                  NaN   \n",
       "18505036            NaN       NaN             NaN                  NaN   \n",
       "18505038            NaN       NaN             NaN                  NaN   \n",
       "18505051            NaN       NaN             NaN                  NaN   \n",
       "18505052            NaN       NaN             NaN                  NaN   \n",
       "\n",
       "          Unnamed: 27  \n",
       "699               NaN  \n",
       "710               NaN  \n",
       "713               NaN  \n",
       "1231              NaN  \n",
       "1242              NaN  \n",
       "...               ...  \n",
       "18504756          NaN  \n",
       "18505036          NaN  \n",
       "18505038          NaN  \n",
       "18505051          NaN  \n",
       "18505052          NaN  \n",
       "\n",
       "[265138 rows x 28 columns]"
      ]
     },
     "execution_count": 11,
     "metadata": {},
     "output_type": "execute_result"
    }
   ],
   "source": [
    "df.loc[df['CANCELLED']==1]"
   ]
  },
  {
   "cell_type": "code",
   "execution_count": 14,
   "id": "1e65cbe3-0377-4e9c-8d51-2f4b6348a31b",
   "metadata": {
    "tags": []
   },
   "outputs": [
    {
     "name": "stderr",
     "output_type": "stream",
     "text": [
      "/var/folders/cr/rjhvwdb12337_4bf126bzr_h0000gn/T/ipykernel_58706/3821766122.py:12: UserWarning: Matplotlib is currently using module://matplotlib_inline.backend_inline, which is a non-GUI backend, so cannot show the figure.\n",
      "  fig.show()\n"
     ]
    },
    {
     "data": {
      "image/png": "[encoded data removed]",
      "text/plain": [
       "<Figure size 684x360 with 1 Axes>"
      ]
     },
     "metadata": {
      "needs_background": "light"
     },
     "output_type": "display_data"
    }
   ],
   "source": [
    "fig, ax = plt.subplots(figsize=(9.5, 5))\n",
    "ax = sns.countplot(x='CANCELLED', data=df, hue='CANCELLED',dodge = False, order=df['CANCELLED'].value_counts().index)\n",
    "ax.set_title('Number of cancelled flights')\n",
    "ax.set_xlabel('Cancelled Flight', fontsize=15, color='black')\n",
    "total = len(df)\n",
    "for p in ax.patches:\n",
    "    percentage = f'{100 * p.get_height() / total:.1f}%\\n'\n",
    "    x = p.get_x() + p.get_width() / 2\n",
    "    y = p.get_height()\n",
    "    ax.annotate(percentage, (x, y), ha='center', va='center')\n",
    "plt.tight_layout()\n",
    "fig.show()"
   ]
  },
  {
   "cell_type": "markdown",
   "id": "f5aa0613-b953-45b5-a8f2-b84ea5c844ef",
   "metadata": {},
   "source": [
    "If flight is cancelled, it means that the record is incomplete and it should be removed from analysis."
   ]
  },
  {
   "cell_type": "markdown",
   "id": "855acdbd-a95e-4de6-8051-8bc27d4bfee9",
   "metadata": {},
   "source": [
    "### Delayed Flight Exploration"
   ]
  },
  {
   "cell_type": "markdown",
   "id": "8f03a76d-9f97-4764-ac88-11bd37ee98dd",
   "metadata": {},
   "source": [
    "Departure delay data in minutes:"
   ]
  },
  {
   "cell_type": "code",
   "execution_count": 16,
   "id": "821bcee2-b389-4f6f-a158-11afcbf2baff",
   "metadata": {},
   "outputs": [
    {
     "data": {
      "text/plain": [
       "0            0.0\n",
       "1            5.0\n",
       "2            1.0\n",
       "3            4.0\n",
       "4           72.0\n",
       "            ... \n",
       "18505720    -4.0\n",
       "18505721     6.0\n",
       "18505722    -5.0\n",
       "18505723    23.0\n",
       "18505724     8.0\n",
       "Name: DEP_DELAY, Length: 18505725, dtype: float64"
      ]
     },
     "execution_count": 16,
     "metadata": {},
     "output_type": "execute_result"
    }
   ],
   "source": [
    "df.DEP_DELAY"
   ]
  },
  {
   "cell_type": "markdown",
   "id": "0c383edd-c237-488a-80d0-7196045aec8a",
   "metadata": {},
   "source": [
    "Boxplot of 'DEP_DELAY':"
   ]
  },
  {
   "cell_type": "code",
   "execution_count": 17,
   "id": "0b79db5c-9d78-4222-aa41-af778084aba0",
   "metadata": {},
   "outputs": [
    {
     "data": {
      "text/plain": [
       "<AxesSubplot:>"
      ]
     },
     "execution_count": 17,
     "metadata": {},
     "output_type": "execute_result"
    },
    {
     "data": {
      "image/png": "[encoded data removed]",
      "text/plain": [
       "<Figure size 792x576 with 1 Axes>"
      ]
     },
     "metadata": {},
     "output_type": "display_data"
    }
   ],
   "source": [
    "sns.set(rc={'figure.figsize':(11,8)}, font_scale=2, style='whitegrid')\n",
    "sns.boxplot(data=df[['DEP_DELAY']])"
   ]
  },
  {
   "cell_type": "markdown",
   "id": "81cc868f-5f76-45ec-9e99-946665757ee1",
   "metadata": {},
   "source": [
    "Arrival delay data in minutes:"
   ]
  },
  {
   "cell_type": "code",
   "execution_count": 18,
   "id": "b5eb0894-481b-420b-8b2b-84a5ae294b37",
   "metadata": {},
   "outputs": [
    {
     "data": {
      "text/plain": [
       "0           -24.0\n",
       "1            -2.0\n",
       "2           -13.0\n",
       "3           -16.0\n",
       "4           124.0\n",
       "            ...  \n",
       "18505720     -5.0\n",
       "18505721      1.0\n",
       "18505722     11.0\n",
       "18505723     14.0\n",
       "18505724     -4.0\n",
       "Name: ARR_DELAY, Length: 18505725, dtype: float64"
      ]
     },
     "execution_count": 18,
     "metadata": {},
     "output_type": "execute_result"
    }
   ],
   "source": [
    "df.ARR_DELAY"
   ]
  },
  {
   "cell_type": "markdown",
   "id": "cd4055a4-2244-45bd-b861-e818bf9ba3fe",
   "metadata": {},
   "source": [
    "Boxplot of 'ARR_DELAY':"
   ]
  },
  {
   "cell_type": "code",
   "execution_count": 19,
   "id": "25093677-9806-4fdf-aecf-a40cf0ae51d3",
   "metadata": {},
   "outputs": [
    {
     "data": {
      "text/plain": [
       "<AxesSubplot:>"
      ]
     },
     "execution_count": 19,
     "metadata": {},
     "output_type": "execute_result"
    },
    {
     "data": {
      "image/png": "[encoded data removed]",
      "text/plain": [
       "<Figure size 792x576 with 1 Axes>"
      ]
     },
     "metadata": {},
     "output_type": "display_data"
    }
   ],
   "source": [
    "sns.set(rc={'figure.figsize':(11,8)}, font_scale=2, style='whitegrid')\n",
    "sns.boxplot(data=df[['ARR_DELAY']])"
   ]
  },
  {
   "cell_type": "markdown",
   "id": "911b3f95-e5ac-45e3-ba28-9cc5f3c09117",
   "metadata": {},
   "source": [
    "* Negative values in these 2 columns indicates whether the flight is delayed in arrival or departure.\n",
    "* A flight is defined as delay when it doesn't arrive at destination on time.\n",
    "* Flight can be delayed on departure but still arrive on time, thus it is not delayed.\n",
    "* Hence, we shall focus on \"ARR_DELAY\" column."
   ]
  },
  {
   "cell_type": "code",
   "execution_count": 20,
   "id": "e46da8d8-376d-44ea-8b92-21ef13baf555",
   "metadata": {},
   "outputs": [],
   "source": [
    "# create a dataframe to store all delayed flight.\n",
    "delayed_flight = df[df['ARR_DELAY']>0]"
   ]
  },
  {
   "cell_type": "markdown",
   "id": "0d19418f-17c9-42b6-ac2d-52f6f16a7218",
   "metadata": {},
   "source": [
    "##### Distplot of arrival delay:"
   ]
  },
  {
   "cell_type": "code",
   "execution_count": 23,
   "id": "e7904a05-1ff7-4d59-af18-fbf3ffdff5f2",
   "metadata": {},
   "outputs": [
    {
     "name": "stderr",
     "output_type": "stream",
     "text": [
      "/opt/anaconda3/lib/python3.9/site-packages/seaborn/distributions.py:2619: FutureWarning: `distplot` is a deprecated function and will be removed in a future version. Please adapt your code to use either `displot` (a figure-level function with similar flexibility) or `histplot` (an axes-level function for histograms).\n",
      "  warnings.warn(msg, FutureWarning)\n"
     ]
    },
    {
     "data": {
      "image/png": "[encoded data removed]",
      "text/plain": [
       "<Figure size 1152x504 with 1 Axes>"
      ]
     },
     "metadata": {},
     "output_type": "display_data"
    },
    {
     "name": "stdout",
     "output_type": "stream",
     "text": [
      "Skewness: 6.827033\n",
      "Kurtosis: 84.878153\n"
     ]
    }
   ],
   "source": [
    "sns.set(rc={\"figure.figsize\":(16, 7)})\n",
    "sns.distplot(delayed_flight['ARR_DELAY'])\n",
    "plt.xlabel('ARRIVAL DELAY in Minutes', fontsize=12)\n",
    "plt.show()\n",
    "print(\"Skewness: %f\" % delayed_flight['ARR_DELAY'].skew())\n",
    "print(\"Kurtosis: %f\" % delayed_flight['ARR_DELAY'].kurt())"
   ]
  },
  {
   "cell_type": "markdown",
   "id": "99dbd422-1a35-448d-b922-8d81288277bf",
   "metadata": {},
   "source": [
    "* The histogram of delayed flight is highly skewed to the left with skewness of 6.83. \n",
    "* Most of the delay flights are located at the left side of the graph and long tail on the right.\n",
    "* This means that most of the delays are short and long delays are unusual. "
   ]
  },
  {
   "cell_type": "markdown",
   "id": "ad5fcb40-607a-4e90-a33a-1521037fb532",
   "metadata": {},
   "source": [
    "#### Average Delay V.S. Months and Years "
   ]
  },
  {
   "cell_type": "code",
   "execution_count": 24,
   "id": "3367c929-bc0c-4b98-8a39-fadc94494197",
   "metadata": {},
   "outputs": [
    {
     "name": "stderr",
     "output_type": "stream",
     "text": [
      "/var/folders/cr/rjhvwdb12337_4bf126bzr_h0000gn/T/ipykernel_58706/2963935433.py:4: SettingWithCopyWarning: \n",
      "A value is trying to be set on a copy of a slice from a DataFrame.\n",
      "Try using .loc[row_indexer,col_indexer] = value instead\n",
      "\n",
      "See the caveats in the documentation: https://pandas.pydata.org/pandas-docs/stable/user_guide/indexing.html#returning-a-view-versus-a-copy\n",
      "  delayed_flight['FL_DATE'] = pd.to_datetime(delayed_flight['FL_DATE'])\n",
      "/var/folders/cr/rjhvwdb12337_4bf126bzr_h0000gn/T/ipykernel_58706/2963935433.py:5: SettingWithCopyWarning: \n",
      "A value is trying to be set on a copy of a slice from a DataFrame.\n",
      "Try using .loc[row_indexer,col_indexer] = value instead\n",
      "\n",
      "See the caveats in the documentation: https://pandas.pydata.org/pandas-docs/stable/user_guide/indexing.html#returning-a-view-versus-a-copy\n",
      "  delayed_flight['FL_DATE_month'] = pd.to_datetime(delayed_flight['FL_DATE']).dt.month\n",
      "/var/folders/cr/rjhvwdb12337_4bf126bzr_h0000gn/T/ipykernel_58706/2963935433.py:6: SettingWithCopyWarning: \n",
      "A value is trying to be set on a copy of a slice from a DataFrame.\n",
      "Try using .loc[row_indexer,col_indexer] = value instead\n",
      "\n",
      "See the caveats in the documentation: https://pandas.pydata.org/pandas-docs/stable/user_guide/indexing.html#returning-a-view-versus-a-copy\n",
      "  delayed_flight['FL_DATE_year'] = pd.to_datetime(delayed_flight['FL_DATE']).dt.year\n"
     ]
    },
    {
     "data": {
      "image/png": "[encoded data removed]",
      "text/plain": [
       "<Figure size 1800x504 with 2 Axes>"
      ]
     },
     "metadata": {},
     "output_type": "display_data"
    }
   ],
   "source": [
    "import matplotlib.dates as mdates\n",
    "f,ax=plt.subplots(1,2,figsize=(25,7))\n",
    "#convert date from string to pandas date\n",
    "delayed_flight['FL_DATE'] = pd.to_datetime(delayed_flight['FL_DATE'])\n",
    "delayed_flight['FL_DATE_month'] = pd.to_datetime(delayed_flight['FL_DATE']).dt.month\n",
    "delayed_flight['FL_DATE_year'] = pd.to_datetime(delayed_flight['FL_DATE']).dt.year\n",
    "\n",
    "delayed_flight.groupby('FL_DATE_month').ARR_DELAY.mean().plot(ax=ax[0])\n",
    "ax[0].set_title('Average delay by month')\n",
    "\n",
    "delayed_flight.groupby('FL_DATE_year').ARR_DELAY.mean().plot(ax=ax[1])\n",
    "ax[1].set_title('Average delay by year')\n",
    "\n",
    "plt.show()"
   ]
  },
  {
   "cell_type": "markdown",
   "id": "f85bb989-66de-4153-ad2b-d22c451df4e0",
   "metadata": {},
   "source": [
    "* Flight delay focused on January, July and December.\n",
    "* Furthermore, the average flight delays duration increases from the year of 2016 until 2018."
   ]
  },
  {
   "cell_type": "code",
   "execution_count": 19,
   "id": "31054817-9ee4-4614-94b6-03bed0dbf67c",
   "metadata": {},
   "outputs": [
    {
     "name": "stderr",
     "output_type": "stream",
     "text": [
      "/var/folders/cr/rjhvwdb12337_4bf126bzr_h0000gn/T/ipykernel_51515/668805577.py:1: SettingWithCopyWarning: \n",
      "A value is trying to be set on a copy of a slice from a DataFrame.\n",
      "Try using .loc[row_indexer,col_indexer] = value instead\n",
      "\n",
      "See the caveats in the documentation: https://pandas.pydata.org/pandas-docs/stable/user_guide/indexing.html#returning-a-view-versus-a-copy\n",
      "  delayed_flight['FL_DATE_day'] = delayed_flight['FL_DATE'].dt.day_name()\n"
     ]
    },
    {
     "data": {
      "text/html": [
       "<div>\n",
       "<style scoped>\n",
       "    .dataframe tbody tr th:only-of-type {\n",
       "        vertical-align: middle;\n",
       "    }\n",
       "\n",
       "    .dataframe tbody tr th {\n",
       "        vertical-align: top;\n",
       "    }\n",
       "\n",
       "    .dataframe thead th {\n",
       "        text-align: right;\n",
       "    }\n",
       "</style>\n",
       "<table border=\"1\" class=\"dataframe\">\n",
       "  <thead>\n",
       "    <tr style=\"text-align: right;\">\n",
       "      <th></th>\n",
       "      <th>mean</th>\n",
       "      <th>count</th>\n",
       "    </tr>\n",
       "    <tr>\n",
       "      <th>FL_DATE_day</th>\n",
       "      <th></th>\n",
       "      <th></th>\n",
       "    </tr>\n",
       "  </thead>\n",
       "  <tbody>\n",
       "    <tr>\n",
       "      <th>Friday</th>\n",
       "      <td>37.613287</td>\n",
       "      <td>1039288</td>\n",
       "    </tr>\n",
       "    <tr>\n",
       "      <th>Monday</th>\n",
       "      <td>38.117324</td>\n",
       "      <td>970119</td>\n",
       "    </tr>\n",
       "    <tr>\n",
       "      <th>Saturday</th>\n",
       "      <td>35.399987</td>\n",
       "      <td>688827</td>\n",
       "    </tr>\n",
       "    <tr>\n",
       "      <th>Sunday</th>\n",
       "      <td>37.152284</td>\n",
       "      <td>865634</td>\n",
       "    </tr>\n",
       "    <tr>\n",
       "      <th>Thursday</th>\n",
       "      <td>36.408880</td>\n",
       "      <td>1016054</td>\n",
       "    </tr>\n",
       "    <tr>\n",
       "      <th>Tuesday</th>\n",
       "      <td>36.137505</td>\n",
       "      <td>871504</td>\n",
       "    </tr>\n",
       "    <tr>\n",
       "      <th>Wednesday</th>\n",
       "      <td>34.740868</td>\n",
       "      <td>893956</td>\n",
       "    </tr>\n",
       "  </tbody>\n",
       "</table>\n",
       "</div>"
      ],
      "text/plain": [
       "                  mean    count\n",
       "FL_DATE_day                    \n",
       "Friday       37.613287  1039288\n",
       "Monday       38.117324   970119\n",
       "Saturday     35.399987   688827\n",
       "Sunday       37.152284   865634\n",
       "Thursday     36.408880  1016054\n",
       "Tuesday      36.137505   871504\n",
       "Wednesday    34.740868   893956"
      ]
     },
     "execution_count": 19,
     "metadata": {},
     "output_type": "execute_result"
    }
   ],
   "source": [
    "delayed_flight['FL_DATE_day'] = delayed_flight['FL_DATE'].dt.day_name()\n",
    "delayed_flight.groupby('FL_DATE_day').ARR_DELAY.agg(['mean','count'])"
   ]
  },
  {
   "cell_type": "markdown",
   "id": "ac4f4a08-083c-457f-bf05-33dead5a3b96",
   "metadata": {},
   "source": [
    "* Most flights are delayed on Thursday and Friday.\n",
    "* Monday has the highest mean of flight delay duration but this day has the second lowest frequency of flight.\n",
    "* Hence, high flight frequency not necessary will result in longer flight delay duration."
   ]
  },
  {
   "cell_type": "code",
   "execution_count": 20,
   "id": "880e62bf-05ad-4781-9c03-9fcd9f1b774b",
   "metadata": {},
   "outputs": [],
   "source": [
    "dl = delayed_flight[delayed_flight['ARR_DELAY']>15]"
   ]
  },
  {
   "cell_type": "code",
   "execution_count": 21,
   "id": "5873378a-4178-4084-86e0-a6215c95f353",
   "metadata": {},
   "outputs": [
    {
     "data": {
      "text/html": [
       "<div>\n",
       "<style scoped>\n",
       "    .dataframe tbody tr th:only-of-type {\n",
       "        vertical-align: middle;\n",
       "    }\n",
       "\n",
       "    .dataframe tbody tr th {\n",
       "        vertical-align: top;\n",
       "    }\n",
       "\n",
       "    .dataframe thead th {\n",
       "        text-align: right;\n",
       "    }\n",
       "</style>\n",
       "<table border=\"1\" class=\"dataframe\">\n",
       "  <thead>\n",
       "    <tr style=\"text-align: right;\">\n",
       "      <th></th>\n",
       "      <th>ARR_DELAY</th>\n",
       "      <th>CANCELLED</th>\n",
       "      <th>CANCELLATION_CODE</th>\n",
       "      <th>DIVERTED</th>\n",
       "      <th>CRS_ELAPSED_TIME</th>\n",
       "      <th>ACTUAL_ELAPSED_TIME</th>\n",
       "      <th>AIR_TIME</th>\n",
       "      <th>DISTANCE</th>\n",
       "      <th>CARRIER_DELAY</th>\n",
       "      <th>WEATHER_DELAY</th>\n",
       "      <th>NAS_DELAY</th>\n",
       "      <th>SECURITY_DELAY</th>\n",
       "    </tr>\n",
       "  </thead>\n",
       "  <tbody>\n",
       "    <tr>\n",
       "      <th>4</th>\n",
       "      <td>124.0</td>\n",
       "      <td>0.0</td>\n",
       "      <td>NaN</td>\n",
       "      <td>0.0</td>\n",
       "      <td>136.0</td>\n",
       "      <td>188.0</td>\n",
       "      <td>121.0</td>\n",
       "      <td>874.0</td>\n",
       "      <td>72.0</td>\n",
       "      <td>0.0</td>\n",
       "      <td>52.0</td>\n",
       "      <td>0.0</td>\n",
       "    </tr>\n",
       "    <tr>\n",
       "      <th>5</th>\n",
       "      <td>83.0</td>\n",
       "      <td>0.0</td>\n",
       "      <td>NaN</td>\n",
       "      <td>0.0</td>\n",
       "      <td>66.0</td>\n",
       "      <td>66.0</td>\n",
       "      <td>38.0</td>\n",
       "      <td>214.0</td>\n",
       "      <td>43.0</td>\n",
       "      <td>0.0</td>\n",
       "      <td>0.0</td>\n",
       "      <td>0.0</td>\n",
       "    </tr>\n",
       "    <tr>\n",
       "      <th>6</th>\n",
       "      <td>74.0</td>\n",
       "      <td>0.0</td>\n",
       "      <td>NaN</td>\n",
       "      <td>0.0</td>\n",
       "      <td>70.0</td>\n",
       "      <td>58.0</td>\n",
       "      <td>37.0</td>\n",
       "      <td>214.0</td>\n",
       "      <td>3.0</td>\n",
       "      <td>0.0</td>\n",
       "      <td>0.0</td>\n",
       "      <td>0.0</td>\n",
       "    </tr>\n",
       "    <tr>\n",
       "      <th>45</th>\n",
       "      <td>28.0</td>\n",
       "      <td>0.0</td>\n",
       "      <td>NaN</td>\n",
       "      <td>0.0</td>\n",
       "      <td>240.0</td>\n",
       "      <td>219.0</td>\n",
       "      <td>192.0</td>\n",
       "      <td>1535.0</td>\n",
       "      <td>28.0</td>\n",
       "      <td>0.0</td>\n",
       "      <td>0.0</td>\n",
       "      <td>0.0</td>\n",
       "    </tr>\n",
       "    <tr>\n",
       "      <th>60</th>\n",
       "      <td>31.0</td>\n",
       "      <td>0.0</td>\n",
       "      <td>NaN</td>\n",
       "      <td>0.0</td>\n",
       "      <td>81.0</td>\n",
       "      <td>79.0</td>\n",
       "      <td>47.0</td>\n",
       "      <td>235.0</td>\n",
       "      <td>14.0</td>\n",
       "      <td>17.0</td>\n",
       "      <td>0.0</td>\n",
       "      <td>0.0</td>\n",
       "    </tr>\n",
       "    <tr>\n",
       "      <th>...</th>\n",
       "      <td>...</td>\n",
       "      <td>...</td>\n",
       "      <td>...</td>\n",
       "      <td>...</td>\n",
       "      <td>...</td>\n",
       "      <td>...</td>\n",
       "      <td>...</td>\n",
       "      <td>...</td>\n",
       "      <td>...</td>\n",
       "      <td>...</td>\n",
       "      <td>...</td>\n",
       "      <td>...</td>\n",
       "    </tr>\n",
       "    <tr>\n",
       "      <th>18505691</th>\n",
       "      <td>36.0</td>\n",
       "      <td>0.0</td>\n",
       "      <td>NaN</td>\n",
       "      <td>0.0</td>\n",
       "      <td>312.0</td>\n",
       "      <td>311.0</td>\n",
       "      <td>291.0</td>\n",
       "      <td>1995.0</td>\n",
       "      <td>36.0</td>\n",
       "      <td>0.0</td>\n",
       "      <td>0.0</td>\n",
       "      <td>0.0</td>\n",
       "    </tr>\n",
       "    <tr>\n",
       "      <th>18505694</th>\n",
       "      <td>18.0</td>\n",
       "      <td>0.0</td>\n",
       "      <td>NaN</td>\n",
       "      <td>0.0</td>\n",
       "      <td>61.0</td>\n",
       "      <td>80.0</td>\n",
       "      <td>32.0</td>\n",
       "      <td>130.0</td>\n",
       "      <td>0.0</td>\n",
       "      <td>0.0</td>\n",
       "      <td>18.0</td>\n",
       "      <td>0.0</td>\n",
       "    </tr>\n",
       "    <tr>\n",
       "      <th>18505696</th>\n",
       "      <td>16.0</td>\n",
       "      <td>0.0</td>\n",
       "      <td>NaN</td>\n",
       "      <td>0.0</td>\n",
       "      <td>219.0</td>\n",
       "      <td>235.0</td>\n",
       "      <td>174.0</td>\n",
       "      <td>1149.0</td>\n",
       "      <td>0.0</td>\n",
       "      <td>0.0</td>\n",
       "      <td>16.0</td>\n",
       "      <td>0.0</td>\n",
       "    </tr>\n",
       "    <tr>\n",
       "      <th>18505708</th>\n",
       "      <td>33.0</td>\n",
       "      <td>0.0</td>\n",
       "      <td>NaN</td>\n",
       "      <td>0.0</td>\n",
       "      <td>116.0</td>\n",
       "      <td>101.0</td>\n",
       "      <td>75.0</td>\n",
       "      <td>500.0</td>\n",
       "      <td>33.0</td>\n",
       "      <td>0.0</td>\n",
       "      <td>0.0</td>\n",
       "      <td>0.0</td>\n",
       "    </tr>\n",
       "    <tr>\n",
       "      <th>18505712</th>\n",
       "      <td>29.0</td>\n",
       "      <td>0.0</td>\n",
       "      <td>NaN</td>\n",
       "      <td>0.0</td>\n",
       "      <td>104.0</td>\n",
       "      <td>119.0</td>\n",
       "      <td>76.0</td>\n",
       "      <td>449.0</td>\n",
       "      <td>14.0</td>\n",
       "      <td>0.0</td>\n",
       "      <td>15.0</td>\n",
       "      <td>0.0</td>\n",
       "    </tr>\n",
       "  </tbody>\n",
       "</table>\n",
       "<p>3226220 rows × 12 columns</p>\n",
       "</div>"
      ],
      "text/plain": [
       "          ARR_DELAY  CANCELLED CANCELLATION_CODE  DIVERTED  CRS_ELAPSED_TIME  \\\n",
       "4             124.0        0.0               NaN       0.0             136.0   \n",
       "5              83.0        0.0               NaN       0.0              66.0   \n",
       "6              74.0        0.0               NaN       0.0              70.0   \n",
       "45             28.0        0.0               NaN       0.0             240.0   \n",
       "60             31.0        0.0               NaN       0.0              81.0   \n",
       "...             ...        ...               ...       ...               ...   \n",
       "18505691       36.0        0.0               NaN       0.0             312.0   \n",
       "18505694       18.0        0.0               NaN       0.0              61.0   \n",
       "18505696       16.0        0.0               NaN       0.0             219.0   \n",
       "18505708       33.0        0.0               NaN       0.0             116.0   \n",
       "18505712       29.0        0.0               NaN       0.0             104.0   \n",
       "\n",
       "          ACTUAL_ELAPSED_TIME  AIR_TIME  DISTANCE  CARRIER_DELAY  \\\n",
       "4                       188.0     121.0     874.0           72.0   \n",
       "5                        66.0      38.0     214.0           43.0   \n",
       "6                        58.0      37.0     214.0            3.0   \n",
       "45                      219.0     192.0    1535.0           28.0   \n",
       "60                       79.0      47.0     235.0           14.0   \n",
       "...                       ...       ...       ...            ...   \n",
       "18505691                311.0     291.0    1995.0           36.0   \n",
       "18505694                 80.0      32.0     130.0            0.0   \n",
       "18505696                235.0     174.0    1149.0            0.0   \n",
       "18505708                101.0      75.0     500.0           33.0   \n",
       "18505712                119.0      76.0     449.0           14.0   \n",
       "\n",
       "          WEATHER_DELAY  NAS_DELAY  SECURITY_DELAY  \n",
       "4                   0.0       52.0             0.0  \n",
       "5                   0.0        0.0             0.0  \n",
       "6                   0.0        0.0             0.0  \n",
       "45                  0.0        0.0             0.0  \n",
       "60                 17.0        0.0             0.0  \n",
       "...                 ...        ...             ...  \n",
       "18505691            0.0        0.0             0.0  \n",
       "18505694            0.0       18.0             0.0  \n",
       "18505696            0.0       16.0             0.0  \n",
       "18505708            0.0        0.0             0.0  \n",
       "18505712            0.0       15.0             0.0  \n",
       "\n",
       "[3226220 rows x 12 columns]"
      ]
     },
     "execution_count": 21,
     "metadata": {},
     "output_type": "execute_result"
    }
   ],
   "source": [
    "dl.iloc[:,14:26]"
   ]
  },
  {
   "cell_type": "markdown",
   "id": "bcfd4fd6-f8a9-4516-a191-dc5ee49723f6",
   "metadata": {},
   "source": [
    "### NaN values found in Reasons of Flight Delay Columns"
   ]
  },
  {
   "cell_type": "markdown",
   "id": "595c8a26-7775-4886-b9d1-e1bc764f2e4c",
   "metadata": {},
   "source": [
    "High percentage of null values are found in reasons of flight delay columns, which are \"CARRIER_DELAY\", \"WEATHER_DELAY\", \"NAS_DELAY\", \"SECURITY_DELAY\" and \"LATE_AIRCRAFT_DELAY\"."
   ]
  },
  {
   "cell_type": "code",
   "execution_count": 22,
   "id": "78828184-b5b5-415d-a130-f6a029139763",
   "metadata": {},
   "outputs": [
    {
     "name": "stdout",
     "output_type": "stream",
     "text": [
      "Percentage of null values in \"CARRIER_DELAY\" column = 81.92 %\n",
      "Percentage of null values in \"WEATHER_DELAY\" column = 81.92 %\n",
      "Percentage of null values in \"NAS_DELAY\" column = 81.92 %\n",
      "Percentage of null values in \"SECURITY_DELAY\" column = 81.92 %\n",
      "Percentage of null values in \"LATE_AIRCRAFT_DELAY\" column = 81.92 %\n"
     ]
    }
   ],
   "source": [
    "print('Percentage of null values in \"CARRIER_DELAY\" column =', (df['CARRIER_DELAY'].isnull().sum()*100/len(df)).round(2), '%')\n",
    "print('Percentage of null values in \"WEATHER_DELAY\" column =', (df['WEATHER_DELAY'].isnull().sum()*100/len(df)).round(2), '%')\n",
    "print('Percentage of null values in \"NAS_DELAY\" column =', (df['NAS_DELAY'].isnull().sum()*100/len(df)).round(2), '%')\n",
    "print('Percentage of null values in \"SECURITY_DELAY\" column =', (df['SECURITY_DELAY'].isnull().sum()*100/len(df)).round(2), '%')\n",
    "print('Percentage of null values in \"LATE_AIRCRAFT_DELAY\" column =', (df['LATE_AIRCRAFT_DELAY'].isnull().sum()*100/len(df)).round(2), '%')"
   ]
  },
  {
   "cell_type": "markdown",
   "id": "25c1a47b-a412-4108-abfd-e664dfe38d19",
   "metadata": {},
   "source": [
    "* 'CARRIER_DELAY', 'WEATHER_DELAY', 'NAS_DELAY', 'SECURITY_DELAY' & 'LATE_AIRCRAFT_DELAY' will be filled in with data when the flight is delayed more than 15 minutes (ARR_DELAY > 15 minutes).\n",
    "* 'ARR_DELAY' is the sum of these 4 columns.\n",
    "* In cases of flight cancelled, diverted or arrive on time, no data will be filled in these columns and hence causing high percentage of NaN values."
   ]
  }
 ],
 "metadata": {
  "kernelspec": {
   "display_name": "Python 3 (ipykernel)",
   "language": "python",
   "name": "python3"
  },
  "language_info": {
   "codemirror_mode": {
    "name": "ipython",
    "version": 3
   },
   "file_extension": ".py",
   "mimetype": "text/x-python",
   "name": "python",
   "nbconvert_exporter": "python",
   "pygments_lexer": "ipython3",
   "version": "3.9.12"
  }
 },
 "nbformat": 4,
 "nbformat_minor": 5
}
